{
 "cells": [
  {
   "cell_type": "code",
   "execution_count": 3,
   "metadata": {},
   "outputs": [
    {
     "name": "stderr",
     "output_type": "stream",
     "text": [
      "Error importing jpype dependencies. Fallback to subprocess.\n",
      "No module named 'jpype'\n",
      "c:\\Personal-Projects\\UMass-Dining-Wrapped\\sortingdata_methods.py:17: SettingWithCopyWarning: \n",
      "A value is trying to be set on a copy of a slice from a DataFrame.\n",
      "Try using .loc[row_indexer,col_indexer] = value instead\n",
      "\n",
      "See the caveats in the documentation: https://pandas.pydata.org/pandas-docs/stable/user_guide/indexing.html#returning-a-view-versus-a-copy\n",
      "  rawdata['Date_Time'] = rawdata['Date_Time'].str.replace(r'(AM|PM).*$', r'\\1', regex=True)\n",
      "c:\\Personal-Projects\\UMass-Dining-Wrapped\\sortingdata_methods.py:18: SettingWithCopyWarning: \n",
      "A value is trying to be set on a copy of a slice from a DataFrame.\n",
      "Try using .loc[row_indexer,col_indexer] = value instead\n",
      "\n",
      "See the caveats in the documentation: https://pandas.pydata.org/pandas-docs/stable/user_guide/indexing.html#returning-a-view-versus-a-copy\n",
      "  rawdata['Date_Time'] = pd.to_datetime(rawdata['Date_Time'],format=\"%B %d, %Y, %I:%M%p\")\n",
      "c:\\Personal-Projects\\UMass-Dining-Wrapped\\sortingdata_methods.py:19: SettingWithCopyWarning: \n",
      "A value is trying to be set on a copy of a slice from a DataFrame.\n",
      "Try using .loc[row_indexer,col_indexer] = value instead\n",
      "\n",
      "See the caveats in the documentation: https://pandas.pydata.org/pandas-docs/stable/user_guide/indexing.html#returning-a-view-versus-a-copy\n",
      "  rawdata['Amount'] = rawdata['Amount'].str.split('-').str[1]\n",
      "c:\\Personal-Projects\\UMass-Dining-Wrapped\\sortingdata_methods.py:20: SettingWithCopyWarning: \n",
      "A value is trying to be set on a copy of a slice from a DataFrame\n",
      "\n",
      "See the caveats in the documentation: https://pandas.pydata.org/pandas-docs/stable/user_guide/indexing.html#returning-a-view-versus-a-copy\n",
      "  rawdata.drop_duplicates(keep='first', inplace=True)\n"
     ]
    }
   ],
   "source": [
    "import readpdf_data\n",
    "import pandas as pd\n",
    "import sortingdata_methods\n",
    "\n",
    "        \n",
    "ALLDININGHALLS = [\"HampDC1\",\"HampDC2\",\"HampDC3\",\"HampDC4\",\"BerkDC1\",\"BerkDC2\",\"BerkDC3\",\"BerkDC4\",\"FrankDC1\",\"FrankDC2\",\"FrankDC3\",\"FrankDC4\",\"WorcDC1\",\"WorcDC2\",\"WorcDC3\",\"WorcDC4\"]\n",
    "\n",
    "rawdata = readpdf_data.returndata()\n",
    "\n",
    "rawdata = sortingdata_methods.preproccessrawdata(rawdata)\n",
    "\n",
    "    #mealswipedata (only if they have unlimted)\n",
    "    #dining hall data\n",
    "    #dining dollor data -- anywhere that isnt dininghall/ printing/washing\n",
    "    #washingmachine data\n",
    "    #printing data\n",
    "\n",
    "\n",
    "\n"
   ]
  },
  {
   "cell_type": "code",
   "execution_count": 2,
   "metadata": {},
   "outputs": [
    {
     "ename": "NameError",
     "evalue": "name 'sortingdata_methods' is not defined",
     "output_type": "error",
     "traceback": [
      "\u001b[1;31m---------------------------------------------------------------------------\u001b[0m",
      "\u001b[1;31mNameError\u001b[0m                                 Traceback (most recent call last)",
      "Cell \u001b[1;32mIn[2], line 1\u001b[0m\n\u001b[1;32m----> 1\u001b[0m \u001b[38;5;28;01mif\u001b[39;00m(\u001b[43msortingdata_methods\u001b[49m\u001b[38;5;241m.\u001b[39mis_mealswipes(rawdata)):\n\u001b[0;32m      2\u001b[0m     mealswipes \u001b[38;5;241m=\u001b[39m sortingdata_methods\u001b[38;5;241m.\u001b[39munlimitedmealswipedata(rawdata)\n\u001b[0;32m      3\u001b[0m     num_mealswipes_used \u001b[38;5;241m=\u001b[39m \u001b[38;5;28mlen\u001b[39m(mealswipes)\n",
      "\u001b[1;31mNameError\u001b[0m: name 'sortingdata_methods' is not defined"
     ]
    }
   ],
   "source": [
    "if(sortingdata_methods.is_mealswipes(rawdata)):\n",
    "    mealswipes = sortingdata_methods.unlimitedmealswipedata(rawdata)\n",
    "    num_mealswipes_used = len(mealswipes)\n",
    "    hamp,berk,frank,woo = sortingdata_methods.dining_hall_data(mealswipes)\n",
    "    proccessed_meal_swipe_data = pd.concat([sortingdata_methods.info_DC(hamp),sortingdata_methods.info_DC(woo),sortingdata_methods.info_DC(berk),sortingdata_methods.info_DC(frank)],axis=1)\n",
    "    misc_mealswipes = mealswipes[~mealswipes['Activity_Details'].isin(ALLDININGHALLS)]\n",
    "    misc_mealswipes = sortingdata_methods.removenums('Activity_Details',misc_mealswipes)\n",
    "    mics_columns = misc_mealswipes['Activity_Details'].unique()\n",
    "    for place in mics_columns:\n",
    "        df = misc_mealswipes[misc_mealswipes['Activity_Details'].str.contains(str(place))]\n",
    "        proccessed_meal_swipe_data = pd.concat([proccessed_meal_swipe_data,sortingdata_methods.info_DC(df).reset_index(drop=True)],axis=1)\n",
    "    otherplaces = rawdata[~rawdata['Account_Name'].str.contains(\"Unlimited|C Basic Plan\")]\n",
    "    \n",
    "    otherplaces = otherplaces[~otherplaces['Activity_Details'].str.contains(\"WASHER|DRYER|GET FUNDS DEPOSITS|PRNT|Deposit to Student Debit Plan|DC\")]\n",
    "    otherplaces = sortingdata_methods.removenums('Activity_Details',otherplaces)\n",
    "    diningdollars = sortingdata_methods.process_unique_values(otherplaces,'Activity_Details')\n",
    "    proccessed_meal_swipe_data.rename(index={0: \"Breakfast\", 1: \"Lunch\", 2: \"Dinner\",3:\"Late_Night\",4:\"GrabNGo\",5:\"Total\"},inplace=True)\n",
    "    diningdollars.rename(index={0: \"Breakfast\", 1: \"Lunch\", 2: \"Dinner\",3:\"Total\",4:\"Total $ Spent\"},inplace=True)\n",
    "    print(f\"Youve used {num_mealswipes_used} meal swipes\")\n",
    "else:\n",
    "    #mealswipes = rawdata[rawdata['Activity_Details'].isin(ALLDININGHALLS)]\n",
    "    hamp,berk,frank,woo = sortingdata_methods.dining_hall_data(rawdata)\n",
    "    proccessed_meal_swipe_data = pd.concat([sortingdata_methods.info_DC(hamp).reset_index(drop=True),sortingdata_methods.info_DC(woo).reset_index(drop=True),sortingdata_methods.info_DC(berk).reset_index(drop=True),sortingdata_methods.info_DC(frank).reset_index(drop=True)],axis=1)\n",
    "    \n",
    "    otherplaces = rawdata[~rawdata['Activity_Details'].str.contains(\"WASHER|DRYER|GET FUNDS DEPOSITS|PRNT|Deposit to Student Debit Plan|DC\")]\n",
    "    \n",
    "    diningdollars = sortingdata_methods.process_unique_values(otherplaces,'Activity_Details')\n",
    "    proccessed_meal_swipe_data.rename(index={0: \"Breakfast\", 1: \"Lunch\", 2: \"Dinner\",3:\"Late_Night\",4:\"GrabNGo\",5:\"Total\"},inplace=True)\n",
    "    diningdollars.rename(index={0: \"Breakfast\", 1: \"Lunch\", 2: \"Dinner\",3:\"Total\",4:\"Total $ Spent\"},inplace=True)\n",
    "    \n",
    "laundry = rawdata[rawdata['Activity_Details'].str.contains(\"WASHER|DRYER\")]\n",
    "laundrywash = rawdata[rawdata['Activity_Details'].str.contains(\"WASHER\")]\n",
    "laundrydry = rawdata[rawdata['Activity_Details'].str.contains(\"DRYER\")]\n",
    "#display(laundrydry)\n",
    "most_common_dryer = laundrydry['Activity_Details'].value_counts().idxmax()\n",
    "#display(laundrywash)\n",
    "most_common_washer = laundrywash['Activity_Details'].value_counts().idxmax()\n",
    "most_common_day = laundry['Date_Time'].dt.day_name().value_counts().idxmax()\n",
    "print(f\"Your favorite dryer is {most_common_dryer}\")\n",
    "print(f\"Your favorite washer is {most_common_washer}\")\n",
    "print(f\"Your favorite day to do laundry is {most_common_day}\")\n"
   ]
  },
  {
   "cell_type": "code",
   "execution_count": 1,
   "metadata": {},
   "outputs": [
    {
     "ename": "NameError",
     "evalue": "name 'proccessed_meal_swipe_data' is not defined",
     "output_type": "error",
     "traceback": [
      "\u001b[1;31m---------------------------------------------------------------------------\u001b[0m",
      "\u001b[1;31mNameError\u001b[0m                                 Traceback (most recent call last)",
      "Cell \u001b[1;32mIn[1], line 1\u001b[0m\n\u001b[1;32m----> 1\u001b[0m \u001b[43mproccessed_meal_swipe_data\u001b[49m\u001b[38;5;241m.\u001b[39mrename(columns\u001b[38;5;241m=\u001b[39m{\u001b[38;5;124m'\u001b[39m\u001b[38;5;124mHampDC\u001b[39m\u001b[38;5;124m'\u001b[39m: \u001b[38;5;124m'\u001b[39m\u001b[38;5;124mHamp\u001b[39m\u001b[38;5;124m'\u001b[39m, \u001b[38;5;124m'\u001b[39m\u001b[38;5;124mWorcDC\u001b[39m\u001b[38;5;124m'\u001b[39m : \u001b[38;5;124m'\u001b[39m\u001b[38;5;124mWorcester\u001b[39m\u001b[38;5;124m'\u001b[39m, \u001b[38;5;124m'\u001b[39m\u001b[38;5;124mFrankDC\u001b[39m\u001b[38;5;124m'\u001b[39m : \u001b[38;5;124m'\u001b[39m\u001b[38;5;124mFrank\u001b[39m\u001b[38;5;124m'\u001b[39m,\u001b[38;5;124m'\u001b[39m\u001b[38;5;124mBerkDC\u001b[39m\u001b[38;5;124m'\u001b[39m : \u001b[38;5;124m'\u001b[39m\u001b[38;5;124mBerk\u001b[39m\u001b[38;5;124m'\u001b[39m}, inplace\u001b[38;5;241m=\u001b[39m\u001b[38;5;28;01mTrue\u001b[39;00m)\n\u001b[0;32m      2\u001b[0m display(proccessed_meal_swipe_data)\n\u001b[0;32m      3\u001b[0m display(diningdollars)\n",
      "\u001b[1;31mNameError\u001b[0m: name 'proccessed_meal_swipe_data' is not defined"
     ]
    }
   ],
   "source": [
    "proccessed_meal_swipe_data.rename(columns={'HampDC': 'Hamp', 'WorcDC' : 'Worcester', 'FrankDC' : 'Frank','BerkDC' : 'Berk'}, inplace=True)\n",
    "display(proccessed_meal_swipe_data)\n",
    "display(diningdollars)\n",
    "def pp():\n",
    "    return \"1\" \"2\" \"3\"\n",
    "one, two ,three = pp()\n",
    "\n",
    "test = {\"Breakfast\" : 0,\"Lunch\" : 0,\"Dinner\" : 0,\"Late_Night\" : 0,\"GrabNGo\" : 0,\"Total\" : 0}\n",
    "display(test)"
   ]
  }
 ],
 "metadata": {
  "kernelspec": {
   "display_name": "Python 3",
   "language": "python",
   "name": "python3"
  },
  "language_info": {
   "codemirror_mode": {
    "name": "ipython",
    "version": 3
   },
   "file_extension": ".py",
   "mimetype": "text/x-python",
   "name": "python",
   "nbconvert_exporter": "python",
   "pygments_lexer": "ipython3",
   "version": "3.11.5"
  }
 },
 "nbformat": 4,
 "nbformat_minor": 2
}
